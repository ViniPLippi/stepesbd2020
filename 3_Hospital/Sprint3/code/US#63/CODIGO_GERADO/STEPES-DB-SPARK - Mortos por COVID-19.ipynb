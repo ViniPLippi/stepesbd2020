{
 "cells": [
  {
   "cell_type": "markdown",
   "metadata": {},
   "source": [
    "# STEPES-BD"
   ]
  },
  {
   "cell_type": "markdown",
   "metadata": {},
   "source": [
    "https://sites.google.com/view/stepes-bd\n",
    "\n",
    "**Autor: João Paulo dos Santos Mendes**\n",
    "(joaopaulo164@gmail.com)\n",
    "\n",
    "### Obtendo dados sobre os mortos pela COVID-19\n",
    "Processo de Tratamento dos dados após obtenção deles do Bando de Dados/Blockchain do BigchainDB (MongoDB) via **Apache Spark**"
   ]
  },
  {
   "cell_type": "code",
   "execution_count": 20,
   "metadata": {},
   "outputs": [],
   "source": [
    "#Carregando biblibotecas\n",
    "sc = spark.sparkContext"
   ]
  },
  {
   "cell_type": "code",
   "execution_count": 21,
   "metadata": {},
   "outputs": [
    {
     "name": "stdout",
     "output_type": "stream",
     "text": [
      "root\n",
      " |-- CPF: string (nullable = true)\n",
      " |-- Endereco: struct (nullable = true)\n",
      " |    |-- Bairro: string (nullable = true)\n",
      " |    |-- CEP: string (nullable = true)\n",
      " |    |-- Cidade: string (nullable = true)\n",
      " |    |-- Latitude: string (nullable = true)\n",
      " |    |-- Longitude: string (nullable = true)\n",
      " |    |-- Numero: string (nullable = true)\n",
      " |    |-- Rua: string (nullable = true)\n",
      " |    |-- UF: string (nullable = true)\n",
      " |-- FatorRH: string (nullable = true)\n",
      " |-- GrupoSanguineo: string (nullable = true)\n",
      " |-- Id: long (nullable = true)\n",
      " |-- Nascimento: string (nullable = true)\n",
      " |-- Nome: string (nullable = true)\n",
      " |-- PrivateKey: string (nullable = true)\n",
      " |-- PublicKey: string (nullable = true)\n",
      "\n"
     ]
    }
   ],
   "source": [
    "#Carregando assets da Blockchain\n",
    "assets_df = spark.read.json(\"~/../assets.json\")\n",
    "\n",
    "#Obtendo todos os Pacientes\n",
    "pacientes_raw_df = assets_df.select(\"data.Paciente.*\")\n",
    "pacientes_raw_df.printSchema()"
   ]
  },
  {
   "cell_type": "code",
   "execution_count": 22,
   "metadata": {},
   "outputs": [
    {
     "name": "stdout",
     "output_type": "stream",
     "text": [
      "+--------------------+----------+\n",
      "|                Nome|Nascimento|\n",
      "+--------------------+----------+\n",
      "|      Aury Lucarelli|23/03/2015|\n",
      "|  Apoliano Bergamini|21/11/1920|\n",
      "|       Meria Almeida|11/05/1966|\n",
      "|        Eudite Bueno|15/08/1992|\n",
      "|      Claudian Rizza|18/09/1931|\n",
      "|   Alexabdre Holanda|20/11/1927|\n",
      "|    Marriete Camargo|16/01/1940|\n",
      "|  Francimone Boscolo|25/07/1946|\n",
      "|    Jessiani Boscolo|12/06/1941|\n",
      "|   Leildes Carvalhal|17/04/1993|\n",
      "|  Carliandra Almeida|09/05/2004|\n",
      "|Christiany Gagliardi|04/11/1935|\n",
      "|    Elonir Policarpo|20/05/1981|\n",
      "|        Cilei Fabris|26/06/1977|\n",
      "|      Zaneide Macedo|18/09/1934|\n",
      "|    Ziene Di gennaro|17/02/1935|\n",
      "|       Hiudy De rosa|19/09/1976|\n",
      "|   Valdenilsa Cabral|07/09/1971|\n",
      "|     Nazare Mendonça|07/01/1982|\n",
      "|   Alexsadro Barbera|18/05/1924|\n",
      "+--------------------+----------+\n",
      "only showing top 20 rows\n",
      "\n"
     ]
    }
   ],
   "source": [
    "#Tratando os dados dos pacientes\n",
    "pacientes_df = pacientes_raw_df.select(\"Nome\", \"Nascimento\").where(\"Nome is not Null\")\n",
    "pacientes_df.show()"
   ]
  },
  {
   "cell_type": "code",
   "execution_count": 23,
   "metadata": {},
   "outputs": [
    {
     "name": "stdout",
     "output_type": "stream",
     "text": [
      "root\n",
      " |-- COVID-19: struct (nullable = true)\n",
      " |    |-- Status: string (nullable = true)\n",
      " |    |-- Test: string (nullable = true)\n",
      " |-- CRM: string (nullable = true)\n",
      " |-- Causa_mortis: string (nullable = true)\n",
      " |-- Create_medical_record_date: string (nullable = true)\n",
      " |-- Data: string (nullable = true)\n",
      " |-- Latitude: string (nullable = true)\n",
      " |-- Longitude: string (nullable = true)\n",
      " |-- Medico: string (nullable = true)\n",
      " |-- Nome: string (nullable = true)\n",
      " |-- Paciente: string (nullable = true)\n",
      " |-- Transaction_date: string (nullable = true)\n",
      " |-- Type: string (nullable = true)\n",
      " |-- Unix_time: long (nullable = true)\n",
      "\n"
     ]
    }
   ],
   "source": [
    "#Carregando metadata da Blockchain\n",
    "df_metadata = spark.read.json(\"~/../metadata.json\")\n",
    "\n",
    "#Obtendo mortes por COVID-19\n",
    "mortes_covid19_raw_df = df_metadata.select(\"metadata.*\")\n",
    "mortes_covid19_raw_df.printSchema()"
   ]
  },
  {
   "cell_type": "code",
   "execution_count": 24,
   "metadata": {},
   "outputs": [
    {
     "name": "stdout",
     "output_type": "stream",
     "text": [
      "+----------------+--------------------+----------+\n",
      "|            Nome|                Data| Unix_time|\n",
      "+----------------+--------------------+----------+\n",
      "|   Wedija Corona|30 de Março de 20...|1585607069|\n",
      "|      Ralf Ebner|8 de Abril de 202...|1586385577|\n",
      "|  Conceni Chiari|13 de Abril de 20...|1586817907|\n",
      "|Queginaldo Lange|20 de Abril de 20...|1587423471|\n",
      "|   Iviane Seixas|22 de Abril de 20...|1587596397|\n",
      "|Eliany Cavaliere|22 de Abril de 20...|1587596429|\n",
      "|  Moira Cecchini|25 de Abril de 20...|1587855990|\n",
      "| Mathildes Ebner|27 de Abril de 20...|1588029014|\n",
      "| Meirejane Tucci|27 de Abril de 20...|1588029026|\n",
      "|Rondney Teixeira|27 de Abril de 20...|1588029033|\n",
      "|Unbelina Santana|30 de Abril de 20...|1588289128|\n",
      "|  Fabiao Queiroz|4 de Maio de 2020...|1588636006|\n",
      "|   Thomais Nunes|4 de Maio de 2020...|1588636015|\n",
      "|    Sand Ribeiro|4 de Maio de 2020...|1588636021|\n",
      "|  Ramela Moreira|7 de Maio de 2020...|1588895658|\n",
      "|  Evandil Barros|8 de Maio de 2020...|1588982509|\n",
      "|   Rhebeca Feijó|11 de Maio de 202...|1589242148|\n",
      "|Givaldina Araújo|14 de Maio de 202...|1589501850|\n",
      "|Estephane D’urso|15 de Maio de 202...|1589588304|\n",
      "|Elizadra Guillén|16 de Maio de 202...|1589674878|\n",
      "+----------------+--------------------+----------+\n",
      "only showing top 20 rows\n",
      "\n"
     ]
    }
   ],
   "source": [
    "#Tratando as morte por COVID-19 dos pacientes\n",
    "mortes_covid19_df = mortes_covid19_raw_df.select(\"Nome\", \"Data\", \"Unix_time\").where(\"Causa_mortis = 'COVID-19'\")\n",
    "mortes_covid19_df.show()"
   ]
  },
  {
   "cell_type": "code",
   "execution_count": 25,
   "metadata": {
    "scrolled": true
   },
   "outputs": [
    {
     "name": "stdout",
     "output_type": "stream",
     "text": [
      "+----------------+----------+----------+\n",
      "|            Nome|Nascimento|     Morte|\n",
      "+----------------+----------+----------+\n",
      "|   Wedija Corona|2001-01-17|2020-03-30|\n",
      "|      Ralf Ebner|1955-01-18|2020-04-08|\n",
      "|  Conceni Chiari|1990-01-23|2020-04-13|\n",
      "|Queginaldo Lange|1972-01-13|2020-04-20|\n",
      "|   Iviane Seixas|1989-01-08|2020-04-22|\n",
      "|Eliany Cavaliere|1944-01-15|2020-04-22|\n",
      "|  Moira Cecchini|1967-01-14|2020-04-25|\n",
      "|Rondney Teixeira|2002-01-06|2020-04-27|\n",
      "| Meirejane Tucci|1957-01-16|2020-04-27|\n",
      "| Mathildes Ebner|2003-01-14|2020-04-27|\n",
      "|Unbelina Santana|1955-01-17|2020-04-30|\n",
      "|    Sand Ribeiro|2019-01-26|2020-05-04|\n",
      "|   Thomais Nunes|1920-01-04|2020-05-04|\n",
      "|  Fabiao Queiroz|1987-01-19|2020-05-04|\n",
      "|  Ramela Moreira|2016-01-22|2020-05-07|\n",
      "|  Evandil Barros|1959-01-17|2020-05-09|\n",
      "|   Rhebeca Feijó|2000-01-06|2020-05-12|\n",
      "|Givaldina Araújo|1927-01-01|2020-05-15|\n",
      "|Estephane D’urso|1985-01-26|2020-05-16|\n",
      "|Istefany Marques|2009-01-15|2020-05-17|\n",
      "+----------------+----------+----------+\n",
      "only showing top 20 rows\n",
      "\n"
     ]
    }
   ],
   "source": [
    "# register the DataFrame como temp table\n",
    "pacientes_df.registerTempTable(\"pacientes\")\n",
    "mortes_covid19_df.registerTempTable(\"mortes_covid19\")\n",
    "\n",
    "result = spark.sql(\"SELECT p.Nome, (TO_DATE(CAST(UNIX_TIMESTAMP(p.Nascimento, 'dd/mm/yyyy') AS TIMESTAMP))) as Nascimento, \\\n",
    "            (from_unixtime(cast(m.Unix_time as bigint),'yyyy-MM-dd')) as Morte\\\n",
    "          FROM pacientes p, mortes_covid19 m\").where(\"p.Nome = m.Nome\")\n",
    "result.show()"
   ]
  },
  {
   "cell_type": "code",
   "execution_count": 26,
   "metadata": {},
   "outputs": [
    {
     "name": "stdout",
     "output_type": "stream",
     "text": [
      "                    Nome  Idade\n",
      "0           Sand Ribeiro      1\n",
      "1          Leovan Soeiro      3\n",
      "2         Ramela Moreira      4\n",
      "3          Edsom Peçanha      5\n",
      "4    Cleivisson Trindade      8\n",
      "5         Derliene Meira      9\n",
      "6   Kalyandra Sanfilippo     10\n",
      "7       Juciclei Mancuso     10\n",
      "8            Zoni Padrão     10\n",
      "9       Istefany Marques     11\n",
      "10          Rigner Patti     13\n",
      "11        Elenisio Borba     14\n",
      "12            Hayna Dias     15\n",
      "13       Mathildes Ebner     17\n",
      "14           Geizy Naves     17\n",
      "15      Rondney Teixeira     18\n",
      "16         Wedija Corona     19\n",
      "17     Andley Pellegrino     19\n",
      "18         Rhebeca Feijó     20\n",
      "19    Janderlene Milazzo     20\n",
      "20      Cacildo Carlucci     20\n",
      "21      Elizadra Guillén     21\n",
      "22            Jesun Amor     22\n",
      "23        Karielly Gioia     23\n",
      "24        Conceni Chiari     30\n",
      "25         Iviane Seixas     31\n",
      "26          Arcido Costa     32\n",
      "27        Fabiao Queiroz     33\n",
      "28     Nereide Salvatori     33\n",
      "29       Linique Serrano     34\n",
      "..                   ...    ...\n",
      "38          Arnito Adamo     52\n",
      "39        Moira Cecchini     53\n",
      "40        Zeine Fioretti     55\n",
      "41       Bismarck Maffei     60\n",
      "42        Evandil Barros     61\n",
      "43      Anjelina Zanella     61\n",
      "44       Meirejane Tucci     63\n",
      "45            Ralf Ebner     65\n",
      "46      Unbelina Santana     65\n",
      "47          Hiuly Ghezzi     66\n",
      "48         Huelton Pires     72\n",
      "49      Lindonora Vieira     75\n",
      "50      Eliany Cavaliere     76\n",
      "51        Samilis Mujica     76\n",
      "52  Ericarla Evangelista     76\n",
      "53        Joaoa Cappello     79\n",
      "54     Luzaneide Besnard     82\n",
      "55        Zilomar Ferrão     82\n",
      "56          Thany Pessoa     84\n",
      "57      Marigleice Lopes     91\n",
      "58    Alcioneide Barroso     91\n",
      "59    Claucimar Meireles     92\n",
      "60      Givaldina Araújo     93\n",
      "61          Simari Silva     95\n",
      "62     Weuder Bortolotti     96\n",
      "63        Ednal Pinheiro     96\n",
      "64    Rosenido Gonçalves     98\n",
      "65      Carmeline Florio     98\n",
      "66      Carmeline Florio     98\n",
      "67         Thomais Nunes    100\n",
      "\n",
      "[68 rows x 2 columns]\n"
     ]
    }
   ],
   "source": [
    "# register the DataFrame como temp tables\n",
    "result.registerTempTable(\"result\")\n",
    "final_data = spark.sql(\"SELECT Nome,INT(datediff(to_date(Morte), to_date(Nascimento))/365) as Idade \\\n",
    "          FROM result\")\n",
    "\n",
    "# converter para Pandas Dataframe\n",
    "final_data_pandas = final_data.orderBy(\"Idade\").toPandas()\n",
    "print(final_data_pandas)"
   ]
  },
  {
   "cell_type": "markdown",
   "metadata": {},
   "source": [
    "# Histograma (Histogram)\n",
    "Um histograma é uma representação da distribuição de dados. Essa função chama matplotlib.pyplot.hist (), em cada série no DataFrame, resultando em um histograma por coluna."
   ]
  },
  {
   "cell_type": "markdown",
   "metadata": {},
   "source": [
    "## Histograma 1 (cada barra equivale a 2 anos)"
   ]
  },
  {
   "cell_type": "code",
   "execution_count": 27,
   "metadata": {
    "scrolled": false
   },
   "outputs": [
    {
     "data": {
      "text/plain": [
       "array([[<matplotlib.axes._subplots.AxesSubplot object at 0x7ff19dadcf28>]],\n",
       "      dtype=object)"
      ]
     },
     "execution_count": 27,
     "metadata": {},
     "output_type": "execute_result"
    },
    {
     "data": {
      "image/png": "[encoded data removed]",
      "text/plain": [
       "<Figure size 1728x864 with 1 Axes>"
      ]
     },
     "metadata": {
      "needs_background": "light"
     },
     "output_type": "display_data"
    }
   ],
   "source": [
    "final_data_pandas[['Idade']].hist(bins=50, figsize=(24,12), color=\"red\")"
   ]
  },
  {
   "cell_type": "markdown",
   "metadata": {},
   "source": [
    "## Histograma 2 (cada barra equivale a 5 anos)"
   ]
  },
  {
   "cell_type": "code",
   "execution_count": 28,
   "metadata": {},
   "outputs": [
    {
     "data": {
      "text/plain": [
       "array([[<matplotlib.axes._subplots.AxesSubplot object at 0x7ff19db38278>]],\n",
       "      dtype=object)"
      ]
     },
     "execution_count": 28,
     "metadata": {},
     "output_type": "execute_result"
    },
    {
     "data": {
      "image/png": "[encoded data removed]",
      "text/plain": [
       "<Figure size 1728x864 with 1 Axes>"
      ]
     },
     "metadata": {
      "needs_background": "light"
     },
     "output_type": "display_data"
    }
   ],
   "source": [
    "final_data_pandas[['Idade']].hist(bins=20, figsize=(24,12), color=\"red\")"
   ]
  },
  {
   "cell_type": "markdown",
   "metadata": {},
   "source": [
    "# Diagrama de caixa (Box plot)\n",
    "Em estatística descritiva, diagrama de caixa, diagrama de extremos e quartis, boxplot ou box plot é uma ferramenta gráfica para representar a variação de dados observados de uma variável numérica por meio de quartis (ver figura 1, onde o eixo horizontal representa a variável). O boxplot tem uma reta (whisker ou fio de bigode) que estende–se verticalmente ou horizontalmente a partir da caixa, indicando a variabilidade fora do quartil superior e do quartil inferior.[1] Os valores atípicos ou outliers (valores discrepantes) podem ser plotados como pontos individuais.[2] O boxplot não é paramétrico, apresentando a variação em amostras de uma população estatística sem fazer qualquer suposição da distribuição estatística subjacente.[3] Os espaços entre as diferentes partes da caixa indicam o grau de dispersão, a obliquidade nos dados e os outliers.[4] O boxplot também permite estimar visualmente vários {\\displaystyle L-}{\\displaystyle L-}estimadores como amplitude interquartil, midhinge, range, mid-range, e trimean.[5] Em resumo, o boxplot identifica onde estão localizados 50% dos valores mais prováveis, a mediana e os valores extremos.[6]\n",
    "https://pt.wikipedia.org/wiki/Diagrama_de_caixa"
   ]
  },
  {
   "cell_type": "code",
   "execution_count": 29,
   "metadata": {
    "scrolled": true
   },
   "outputs": [
    {
     "data": {
      "text/plain": [
       "<matplotlib.axes._subplots.AxesSubplot at 0x7ff19d9a0390>"
      ]
     },
     "execution_count": 29,
     "metadata": {},
     "output_type": "execute_result"
    },
    {
     "data": {
      "image/png": "[encoded data removed]",
      "text/plain": [
       "<Figure size 432x288 with 1 Axes>"
      ]
     },
     "metadata": {
      "needs_background": "light"
     },
     "output_type": "display_data"
    }
   ],
   "source": [
    "final_data_pandas.boxplot('Idade', showfliers=False)"
   ]
  },
  {
   "cell_type": "code",
   "execution_count": 30,
   "metadata": {
    "scrolled": true
   },
   "outputs": [
    {
     "name": "stdout",
     "output_type": "stream",
     "text": [
      "    Idade  count\n",
      "0      52      1\n",
      "1      53      1\n",
      "2      55      1\n",
      "3      60      1\n",
      "4      61      2\n",
      "5      63      1\n",
      "6      65      2\n",
      "7      66      1\n",
      "8      72      1\n",
      "9      75      1\n",
      "10     76      3\n",
      "11     79      1\n",
      "12     82      2\n",
      "13     84      1\n",
      "14     91      2\n",
      "15     92      1\n",
      "16     93      1\n",
      "17     95      1\n",
      "18     96      2\n",
      "19     98      3\n",
      "20    100      1\n"
     ]
    }
   ],
   "source": [
    "final_data_pandas2 = final_data.groupBy(\"Idade\").count().orderBy(\"Idade\").where(\"Idade > 49\").toPandas()\n",
    "print(final_data_pandas2)"
   ]
  },
  {
   "cell_type": "markdown",
   "metadata": {},
   "source": [
    "# Gráfico de barras (Bar Plot)\n",
    "Um gráfico de barras é um gráfico que apresenta dados categóricos com barras retangulares com comprimentos proporcionais aos valores que eles representam. Um gráfico de barras mostra comparações entre categorias discretas. Um eixo do gráfico mostra as categorias específicas sendo comparadas e o outro eixo representa um valor medido."
   ]
  },
  {
   "cell_type": "code",
   "execution_count": 13,
   "metadata": {},
   "outputs": [
    {
     "data": {
      "text/plain": [
       "Text(0.5, 1.0, 'Mortes por Covid-19 (IDADE > 50 ANOS)')"
      ]
     },
     "execution_count": 13,
     "metadata": {},
     "output_type": "execute_result"
    },
    {
     "data": {
      "image/png": "[encoded data removed]",
      "text/plain": [
       "<Figure size 1728x864 with 1 Axes>"
      ]
     },
     "metadata": {
      "needs_background": "light"
     },
     "output_type": "display_data"
    }
   ],
   "source": [
    "final_data_pandas2.plot.bar(x='Idade', y='count', rot=0, figsize=(24,12)).set_title('Mortes por Covid-19 (IDADE > 50 ANOS)')"
   ]
  }
 ],
 "metadata": {
  "kernelspec": {
   "display_name": "Pyspark (Py3)",
   "language": "",
   "name": "pyspark"
  },
  "language_info": {
   "codemirror_mode": {
    "name": "ipython",
    "version": 3
   },
   "file_extension": ".py",
   "mimetype": "text/x-python",
   "name": "python",
   "nbconvert_exporter": "python",
   "pygments_lexer": "ipython3",
   "version": "3.6.7"
  }
 },
 "nbformat": 4,
 "nbformat_minor": 2
}
